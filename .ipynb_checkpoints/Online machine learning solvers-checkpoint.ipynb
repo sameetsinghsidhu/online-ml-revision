{
 "cells": [
  {
   "cell_type": "code",
   "execution_count": 1,
   "metadata": {},
   "outputs": [],
   "source": [
    "import numpy as np\n",
    "from collections import defaultdict\n",
    "import math"
   ]
  },
  {
   "cell_type": "markdown",
   "metadata": {},
   "source": [
    "## Week 1: what is the probability of a sequence Pr(EA...AE)"
   ]
  },
  {
   "cell_type": "markdown",
   "metadata": {},
   "source": [
    "Slide 20 of Week 1"
   ]
  },
  {
   "cell_type": "code",
   "execution_count": 3,
   "metadata": {},
   "outputs": [],
   "source": [
    "def get_total_probability(transition_matrix, initial_probabilities, sequence):\n",
    "    total_probability = initial[sequence[0]]\n",
    "    \n",
    "    for i in range(0, len(sequence)-1, 1):\n",
    "        frm = sequence[i]\n",
    "        to = sequence[i+1]\n",
    "        total_probability *= transition_matrix[frm, to]\n",
    "    \n",
    "    return total_probability"
   ]
  },
  {
   "cell_type": "markdown",
   "metadata": {},
   "source": [
    "Input data here"
   ]
  },
  {
   "cell_type": "code",
   "execution_count": 4,
   "metadata": {},
   "outputs": [
    {
     "data": {
      "text/plain": [
       "0.007055999999999999"
      ]
     },
     "execution_count": 4,
     "metadata": {},
     "output_type": "execute_result"
    }
   ],
   "source": [
    "transition = np.array([[0.3, 0.7], [0.4, 0.6]])\n",
    "initial = np.array([0.2, 0.8])\n",
    "sequence = [0, 1, 1, 0, 0, 1]\n",
    "\n",
    "get_total_probability(transition, initial, sequence)"
   ]
  },
  {
   "cell_type": "markdown",
   "metadata": {},
   "source": [
    "## Week 1: fitting a markov chain using maximum likelihood estimate"
   ]
  },
  {
   "cell_type": "markdown",
   "metadata": {},
   "source": [
    "Slide 22 of Week 1"
   ]
  },
  {
   "cell_type": "markdown",
   "metadata": {},
   "source": [
    "p[i, j] = # transitions from s[i] to s[j] / # transitions from s[i]"
   ]
  },
  {
   "cell_type": "code",
   "execution_count": 5,
   "metadata": {},
   "outputs": [],
   "source": [
    "def fit_markov_chain(transition_matrix, sequence):\n",
    "    transition_counts = np.zeros(transition_matrix.shape)\n",
    "    from_counts = np.zeros(transition_matrix.shape[0])\n",
    "    \n",
    "    for i in range(0, len(sequence)-1, 1):\n",
    "        frm = sequence[i]\n",
    "        to = sequence[i+1]\n",
    "        transition_counts[frm, to] += 1\n",
    "        from_counts[frm] += 1\n",
    "    \n",
    "    print(\"Transition counts\\n\", transition_counts)\n",
    "    print(\"Transition from counts\\n\", from_counts)\n",
    "    \n",
    "    for i in range(transition_matrix.shape[0]):\n",
    "        transition_counts[i, :] /= from_counts[i]\n",
    "    \n",
    "    return transition_counts"
   ]
  },
  {
   "cell_type": "markdown",
   "metadata": {},
   "source": [
    "Input data here"
   ]
  },
  {
   "cell_type": "code",
   "execution_count": 6,
   "metadata": {},
   "outputs": [
    {
     "name": "stdout",
     "output_type": "stream",
     "text": [
      "Transition counts\n",
      " [[1. 2.]\n",
      " [1. 1.]]\n",
      "Transition from counts\n",
      " [3. 2.]\n",
      "\n",
      "Max likelihood estimate\n",
      " [[0.33333333 0.66666667]\n",
      " [0.5        0.5       ]]\n"
     ]
    }
   ],
   "source": [
    "transition = np.array([[0.3, 0.7], [0.4, 0.6]])\n",
    "sequence = [0, 1, 1, 0, 0, 1]\n",
    "\n",
    "print(\"\\nMax likelihood estimate\\n\", fit_markov_chain(transition, sequence))"
   ]
  },
  {
   "cell_type": "markdown",
   "metadata": {},
   "source": [
    "## Week 1: PageRank"
   ]
  },
  {
   "cell_type": "markdown",
   "metadata": {},
   "source": [
    "Slide 39 of Week 1"
   ]
  },
  {
   "cell_type": "markdown",
   "metadata": {},
   "source": [
    "Adjust the value of power if it takes too long or does not converge"
   ]
  },
  {
   "cell_type": "code",
   "execution_count": 7,
   "metadata": {},
   "outputs": [],
   "source": [
    "def page_rank(graph, d, power):\n",
    "    N = graph.shape[0]\n",
    "    graph = graph/graph.sum(axis = 1, keepdims = True)\n",
    "    M = (1 - d) * (np.ones(N) / N) + d * graph\n",
    "    \n",
    "    return np.linalg.matrix_power(M, power)[0, :]"
   ]
  },
  {
   "cell_type": "markdown",
   "metadata": {},
   "source": [
    "Input data here"
   ]
  },
  {
   "cell_type": "code",
   "execution_count": 8,
   "metadata": {},
   "outputs": [
    {
     "data": {
      "text/plain": [
       "array([0.38778971, 0.39739966, 0.21481063])"
      ]
     },
     "execution_count": 8,
     "metadata": {},
     "output_type": "execute_result"
    }
   ],
   "source": [
    "L = np.array([[0, 1, 1], [1, 0, 0], [0, 1, 0]])\n",
    "d = 0.85\n",
    "\n",
    "page_rank(L, d, 1000)"
   ]
  },
  {
   "cell_type": "markdown",
   "metadata": {},
   "source": [
    "## Week 2: Alpha"
   ]
  },
  {
   "cell_type": "markdown",
   "metadata": {},
   "source": [
    "In his extra notes on alphas and betas under week 2, this calculates everything"
   ]
  },
  {
   "cell_type": "code",
   "execution_count": 9,
   "metadata": {},
   "outputs": [],
   "source": [
    "def pretty_print_dot(a, b):\n",
    "    joined_ab = [\"(\" + str(x) + \" * \" + str(y) + \")\" for x, y in zip(a, b)]\n",
    "    return \" + \".join(joined_ab)"
   ]
  },
  {
   "cell_type": "code",
   "execution_count": 10,
   "metadata": {},
   "outputs": [],
   "source": [
    "def calculate_alphas(M, p, B, v):\n",
    "    N, T = p.shape[0], v.shape[0]\n",
    "    alphas = np.zeros(shape=(N, T))\n",
    "    \n",
    "    print(\"t1\")\n",
    "    for i in range(len(p)):\n",
    "        alphas[i, 0] = p[i] * B[i][v[0]]\n",
    "        print(\"alpha\", i+1, \"=\", p[i], \"*\", B[i][v[0]], \"=\", alphas[i, 0])\n",
    "\n",
    "    def recursive_step(t):\n",
    "        if t != len(v):\n",
    "            print(\"t\" + str(t+1))\n",
    "            for i in range(N):\n",
    "                alphas[i, t] = B[i][v[t]] * np.dot(alphas[:, t - 1], M[:, i])\n",
    "                print(\"alpha\", i+1, \"=\", B[i][v[t]], \"* [\", pretty_print_dot(alphas[:, t - 1], M[:, i]), \"] =\", alphas[i, t])\n",
    "\n",
    "            recursive_step(t + 1)\n",
    "        \n",
    "    recursive_step(1)\n",
    "    return alphas"
   ]
  },
  {
   "cell_type": "code",
   "execution_count": 41,
   "metadata": {},
   "outputs": [],
   "source": [
    "def get_h_plus_one(state, alphas, M, v, prints = True):\n",
    "    N = M.shape[1]\n",
    "    h_distribution = [alphas[i, -1]/sum(alphas[:, -1]) for i in range(N)]\n",
    "    \n",
    "    prob = 0\n",
    "    calc = []\n",
    "    \n",
    "    for i in range(N):\n",
    "        calc.append(str(h_distribution[i]) + \" * \" + str(M[i, state]))\n",
    "        prob += h_distribution[i] * M[i, state]\n",
    "    \n",
    "    if prints:\n",
    "        print(\"Pr(H\" + str(len(v)+1) + \" = s\" + str(state+1) + \" |\", v+1, \") =\", \" + \".join(calc), \"=\", prob)\n",
    "        \n",
    "    return prob"
   ]
  },
  {
   "cell_type": "code",
   "execution_count": 45,
   "metadata": {},
   "outputs": [],
   "source": [
    "def get_v_plus_one(state, alphas, M, B, v, prints = True):\n",
    "    N = M.shape[1]\n",
    "    h_1 = [get_h_plus_one(i, alphas, M, v, prints = False) for i in range(N)]\n",
    "    \n",
    "    prob = 0\n",
    "    calc = []\n",
    "    \n",
    "    for i in range(N):\n",
    "        calc.append(str(h_1[i]) + \" * \" + str(B[i, state]))\n",
    "        prob += h_1[i] * B[i, state]\n",
    "    \n",
    "    if prints:\n",
    "        print(\"Pr(V\" + str(len(v)+ 1) + \" = x\" + str(state + 1), \"|\", v+1, \") =\", \" + \".join(calc), \"=\", prob)"
   ]
  },
  {
   "cell_type": "markdown",
   "metadata": {},
   "source": [
    "Input data here, for the sequence subtract each state by 1. In this example the actual sequence was 4, 1, 2"
   ]
  },
  {
   "cell_type": "code",
   "execution_count": 49,
   "metadata": {},
   "outputs": [],
   "source": [
    "M = np.array([[0.8, 0.2], [0.3, 0.7]])\n",
    "B = np.array([[0.3, 0.4, 0.1, 0.2], [0.2, 0.2, 0.3, 0.3]])\n",
    "p = np.array([[0.4], [0.6]])\n",
    "v = np.array([3, 0, 1])"
   ]
  },
  {
   "cell_type": "code",
   "execution_count": 50,
   "metadata": {},
   "outputs": [
    {
     "name": "stdout",
     "output_type": "stream",
     "text": [
      "t1\n",
      "alpha 1 = [0.4] * 0.2 = 0.08000000000000002\n",
      "alpha 2 = [0.6] * 0.3 = 0.18\n",
      "t2\n",
      "alpha 1 = 0.3 * [ (0.08000000000000002 * 0.8) + (0.18 * 0.3) ] = 0.03540000000000001\n",
      "alpha 2 = 0.2 * [ (0.08000000000000002 * 0.2) + (0.18 * 0.7) ] = 0.028400000000000005\n",
      "t3\n",
      "alpha 1 = 0.4 * [ (0.03540000000000001 * 0.8) + (0.028400000000000005 * 0.3) ] = 0.014736000000000006\n",
      "alpha 2 = 0.2 * [ (0.03540000000000001 * 0.2) + (0.028400000000000005 * 0.7) ] = 0.005392000000000001\n",
      "\n",
      "Final matrix\n",
      " [[0.08     0.0354   0.014736]\n",
      " [0.18     0.0284   0.005392]]\n",
      "\n",
      "Probability of sequence [4 1 2] = 0.020128000000000007\n",
      "\n",
      "Distribution of H3:\n",
      "Pr(H3 = s1 |  [4 1 2] ) =  0.7321144674085851\n",
      "Pr(H3 = s2 |  [4 1 2] ) =  0.2678855325914149\n",
      "\n",
      "Predicting H4:\n",
      "Pr(H4 = s1 | [4 1 2] ) = 0.7321144674085851 * 0.8 + 0.2678855325914149 * 0.3 = 0.6660572337042926\n",
      "Pr(H4 = s2 | [4 1 2] ) = 0.7321144674085851 * 0.2 + 0.2678855325914149 * 0.7 = 0.3339427662957074\n",
      "\n",
      "Predicting V4:\n",
      "Pr(V4 = x1 | [4 1 2] ) = 0.6660572337042926 * 0.3 + 0.3339427662957074 * 0.2 = 0.26660572337042926\n",
      "Pr(V4 = x2 | [4 1 2] ) = 0.6660572337042926 * 0.4 + 0.3339427662957074 * 0.2 = 0.33321144674085856\n",
      "Pr(V4 = x3 | [4 1 2] ) = 0.6660572337042926 * 0.1 + 0.3339427662957074 * 0.3 = 0.1667885532591415\n",
      "Pr(V4 = x4 | [4 1 2] ) = 0.6660572337042926 * 0.2 + 0.3339427662957074 * 0.3 = 0.23339427662957074\n"
     ]
    }
   ],
   "source": [
    "alphas = calculate_alphas(M, p, B, v)\n",
    "\n",
    "print(\"\\nFinal matrix\\n\", alphas)\n",
    "\n",
    "print(\"\\nProbability of sequence\", v+1, \"=\", sum(alphas[:, -1]))\n",
    "\n",
    "print(\"\\nDistribution of H\" + str(len(v)) + \":\")\n",
    "\n",
    "for i in range(len(p)):\n",
    "    print(\"Pr(H\" + str(len(v)) + \" = s\" + str(i+1) + \" | \", v+1, \") = \", alphas[i, -1]/sum(alphas[:, -1]))\n",
    "    \n",
    "print(\"\\nPredicting H\" + str(len(v) + 1) + \":\")\n",
    "\n",
    "for i in range(len(p)):\n",
    "    get_h_plus_one(i, alphas, M, v)\n",
    "    \n",
    "print(\"\\nPredicting V\" + str(len(v) + 1) + \":\")\n",
    "\n",
    "for i in range(len(v) + 1):\n",
    "    get_v_plus_one(i, alphas, M, B, v)"
   ]
  },
  {
   "cell_type": "markdown",
   "metadata": {},
   "source": [
    "## Week 2: Beta"
   ]
  },
  {
   "cell_type": "code",
   "execution_count": 12,
   "metadata": {},
   "outputs": [],
   "source": [
    "def calculate_betas(M, p, B, v):\n",
    "    N, T = p.shape[0], v.shape[0]\n",
    "    betas = np.zeros(shape=(N, T))\n",
    "    \n",
    "    for i in range(N):\n",
    "        betas[i, -1] = 1\n",
    "        \n",
    "    print(\"t\" + str(T), \"initialise all values at 1\\n\", betas)\n",
    "    \n",
    "    def recursive_step(t):\n",
    "        if abs(t) <= len(v):\n",
    "            print(\"t\" + str(3-abs(t) + 1))\n",
    "            for i in range(N):\n",
    "                beta_i = 0\n",
    "                strs = []\n",
    "                for j in range(N):\n",
    "                    beta_i += betas[j, t + 1] * M[i, j] * B[j][v[t+1]]\n",
    "                    strs.append(\"(\" + str(betas[j, t + 1]) + \" * \" + str(M[i, j]) + \" * \" + str(B[j][v[t+1]]) + \")\")\n",
    "                    \n",
    "                betas[i, t] = beta_i\n",
    "                print(\"beta\", i+1, \"=\", \" + \".join(strs), \"=\", betas[i, t])\n",
    "                \n",
    "            recursive_step(t - 1)\n",
    "    \n",
    "    recursive_step(-2)\n",
    "    return betas"
   ]
  },
  {
   "cell_type": "markdown",
   "metadata": {},
   "source": [
    "Input data here"
   ]
  },
  {
   "cell_type": "code",
   "execution_count": 13,
   "metadata": {},
   "outputs": [
    {
     "name": "stdout",
     "output_type": "stream",
     "text": [
      "t3 initialise all values at 1\n",
      " [[0. 0. 1.]\n",
      " [0. 0. 1.]]\n",
      "t2\n",
      "beta 1 = (1.0 * 0.8 * 0.4) + (1.0 * 0.2 * 0.2) = 0.3600000000000001\n",
      "beta 2 = (1.0 * 0.3 * 0.4) + (1.0 * 0.7 * 0.2) = 0.26\n",
      "t1\n",
      "beta 1 = (0.3600000000000001 * 0.8 * 0.3) + (0.26 * 0.2 * 0.2) = 0.09680000000000002\n",
      "beta 2 = (0.3600000000000001 * 0.3 * 0.3) + (0.26 * 0.7 * 0.2) = 0.0688\n",
      "\n",
      "Final matrix\n",
      " [[0.0968 0.36   1.    ]\n",
      " [0.0688 0.26   1.    ]]\n"
     ]
    }
   ],
   "source": [
    "M = np.array([[0.8, 0.2], [0.3, 0.7]])\n",
    "B = np.array([[0.3, 0.4, 0.1, 0.2], [0.2, 0.2, 0.3, 0.3]])\n",
    "p = np.array([[0.4], [0.6]])\n",
    "v = np.array([3, 0, 1])\n",
    "\n",
    "betas = calculate_betas(M, p, B, v)\n",
    "print(\"\\nFinal matrix\\n\", betas)"
   ]
  },
  {
   "cell_type": "markdown",
   "metadata": {},
   "source": [
    "## Week 2: Gamma"
   ]
  },
  {
   "cell_type": "code",
   "execution_count": 52,
   "metadata": {},
   "outputs": [],
   "source": [
    "def calculate_gamma(alphas, betas):\n",
    "    N, T = alphas.shape\n",
    "    gammas = np.zeros(shape=(N, T))\n",
    "    \n",
    "    for t in range(T):\n",
    "        for i in range(N):\n",
    "            gammas[i, t] = alphas[i, t] * betas[i, t] / np.sum(alphas[:, t] * betas[:, t])\n",
    "    \n",
    "    return gammas"
   ]
  },
  {
   "cell_type": "markdown",
   "metadata": {},
   "source": [
    "Input data here"
   ]
  },
  {
   "cell_type": "code",
   "execution_count": 53,
   "metadata": {},
   "outputs": [],
   "source": [
    "M = np.array([[0.8, 0.2], [0.3, 0.7]])\n",
    "B = np.array([[0.3, 0.4, 0.1, 0.2], [0.2, 0.2, 0.3, 0.3]])\n",
    "p = np.array([[0.4], [0.6]])\n",
    "v = np.array([3, 0, 1])"
   ]
  },
  {
   "cell_type": "code",
   "execution_count": 56,
   "metadata": {},
   "outputs": [
    {
     "name": "stdout",
     "output_type": "stream",
     "text": [
      "t1\n",
      "alpha 1 = [0.4] * 0.2 = 0.08000000000000002\n",
      "alpha 2 = [0.6] * 0.3 = 0.18\n",
      "t2\n",
      "alpha 1 = 0.3 * [ (0.08000000000000002 * 0.8) + (0.18 * 0.3) ] = 0.03540000000000001\n",
      "alpha 2 = 0.2 * [ (0.08000000000000002 * 0.2) + (0.18 * 0.7) ] = 0.028400000000000005\n",
      "t3\n",
      "alpha 1 = 0.4 * [ (0.03540000000000001 * 0.8) + (0.028400000000000005 * 0.3) ] = 0.014736000000000006\n",
      "alpha 2 = 0.2 * [ (0.03540000000000001 * 0.2) + (0.028400000000000005 * 0.7) ] = 0.005392000000000001\n",
      "t3 initialise all values at 1\n",
      " [[0. 0. 1.]\n",
      " [0. 0. 1.]]\n",
      "t2\n",
      "beta 1 = (1.0 * 0.8 * 0.4) + (1.0 * 0.2 * 0.2) = 0.3600000000000001\n",
      "beta 2 = (1.0 * 0.3 * 0.4) + (1.0 * 0.7 * 0.2) = 0.26\n",
      "t1\n",
      "beta 1 = (0.3600000000000001 * 0.8 * 0.3) + (0.26 * 0.2 * 0.2) = 0.09680000000000002\n",
      "beta 2 = (0.3600000000000001 * 0.3 * 0.3) + (0.26 * 0.7 * 0.2) = 0.0688\n",
      "\n",
      "Gamma matrix\n",
      " [[0.38473768 0.63314785 0.73211447]\n",
      " [0.61526232 0.36685215 0.26788553]]\n"
     ]
    }
   ],
   "source": [
    "print(\"\\nGamma matrix\\n\", calculate_gamma(calculate_alphas(M, p, B, v), calculate_betas(M, p, B, v)))"
   ]
  },
  {
   "cell_type": "markdown",
   "metadata": {},
   "source": [
    "## Week 3: moving average smoothing"
   ]
  },
  {
   "cell_type": "code",
   "execution_count": 95,
   "metadata": {},
   "outputs": [],
   "source": [
    "def ma(series, span, element_range, weights = None):\n",
    "    start, stop = element_range\n",
    "    k = int((span - 1)/2)\n",
    "    \n",
    "    if weights is None:\n",
    "        weights = np.ones((1, span))[0]\n",
    "    else:\n",
    "        span = 1\n",
    "    \n",
    "    return [(sum(np.array(series[i-k:i+k+1]) * weights))/span for i in range(start, stop+1, 1)]"
   ]
  },
  {
   "cell_type": "markdown",
   "metadata": {},
   "source": [
    "Remember to subtract one from each element of the range. So in this example we needed to apply to the elements [2, 4]. If you want equal weight just remove the weights argument below e.g ma(series = [4, 2, 3, 5, 1], span = 3, element_range = (1, 3))"
   ]
  },
  {
   "cell_type": "code",
   "execution_count": 98,
   "metadata": {},
   "outputs": [
    {
     "data": {
      "text/plain": [
       "[2.75, 3.25, 3.5]"
      ]
     },
     "execution_count": 98,
     "metadata": {},
     "output_type": "execute_result"
    }
   ],
   "source": [
    "ma(series = [4, 2, 3, 5, 1], span = 3, element_range = (1, 3), weights = [0.25, 0.5, 0.25])"
   ]
  },
  {
   "cell_type": "markdown",
   "metadata": {},
   "source": [
    "## Week 3: differencing"
   ]
  },
  {
   "cell_type": "code",
   "execution_count": 102,
   "metadata": {},
   "outputs": [],
   "source": [
    "def difference(series, n):\n",
    "    if n == 0:\n",
    "        return series\n",
    "    \n",
    "    return difference([series[i+1] - series[i] for i in range(len(series) - 1)], n - 1)"
   ]
  },
  {
   "cell_type": "code",
   "execution_count": 107,
   "metadata": {},
   "outputs": [
    {
     "name": "stdout",
     "output_type": "stream",
     "text": [
      "[3, 1, -6]\n"
     ]
    }
   ],
   "source": [
    "print(difference(series = [4, 2, 3, 5, 1], n = 2))"
   ]
  },
  {
   "cell_type": "markdown",
   "metadata": {},
   "source": [
    "## Week 3: box-cox"
   ]
  },
  {
   "cell_type": "code",
   "execution_count": 9,
   "metadata": {},
   "outputs": [
    {
     "data": {
      "text/plain": [
       "[2.0, 0.8284271247461903, 1.4641016151377544, 2.4721359549995796, 0.0]"
      ]
     },
     "execution_count": 9,
     "metadata": {},
     "output_type": "execute_result"
    }
   ],
   "source": [
    "lamb = 0.5\n",
    "series = [4, 2, 3, 5, 1]\n",
    "\n",
    "box_cox = lambda x, l: ((x**l) - 1)/l if 0 < l and l <= 1 else math.log(x)\n",
    "[box_cox(x, lamb) for x in series]"
   ]
  },
  {
   "cell_type": "code",
   "execution_count": null,
   "metadata": {},
   "outputs": [],
   "source": []
  }
 ],
 "metadata": {
  "kernelspec": {
   "display_name": "Python 3",
   "language": "python",
   "name": "python3"
  },
  "language_info": {
   "codemirror_mode": {
    "name": "ipython",
    "version": 3
   },
   "file_extension": ".py",
   "mimetype": "text/x-python",
   "name": "python",
   "nbconvert_exporter": "python",
   "pygments_lexer": "ipython3",
   "version": "3.7.3"
  }
 },
 "nbformat": 4,
 "nbformat_minor": 2
}
